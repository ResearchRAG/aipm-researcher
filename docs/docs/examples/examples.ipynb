{
 "cells": [
  {
   "cell_type": "markdown",
   "id": "6ab73899",
   "metadata": {},
   "source": [
    "# Tavily 用例"
   ]
  },
  {
   "cell_type": "markdown",
   "id": "013eda36",
   "metadata": {},
   "source": [
    "## 设置"
   ]
  },
  {
   "cell_type": "code",
   "execution_count": 4,
   "id": "8ad25551",
   "metadata": {
    "ExecuteTime": {
     "end_time": "2023-11-08T15:57:13.339729Z",
     "start_time": "2023-11-08T15:57:11.156595Z"
    }
   },
   "outputs": [],
   "source": [
    "# 安装 Tavily 库\n",
    "!pip install tavily-python"
   ]
  },
  {
   "cell_type": "code",
   "execution_count": 27,
   "id": "c0722950",
   "metadata": {
    "ExecuteTime": {
     "end_time": "2023-11-08T16:01:01.318977Z",
     "start_time": "2023-11-08T16:01:01.314688Z"
    }
   },
   "outputs": [],
   "source": [
    "# 导入并连接 Tavily\n",
    "from tavily import TavilyClient\n",
    "client = TavilyClient(api_key=\"您的API密钥\")"
   ]
  },
  {
   "cell_type": "code",
   "execution_count": 5,
   "id": "9328a188",
   "metadata": {
    "ExecuteTime": {
     "end_time": "2023-11-08T16:02:25.587726Z",
     "start_time": "2023-11-08T16:02:18.663961Z"
    },
    "scrolled": true
   },
   "outputs": [
    {
     "data": {
      "text/plain": [
       "{'query': '最新纳斯达克综合指数的详情是什么？',\n",
       " 'follow_up_questions': None,\n",
       " 'answer': None,\n",
       " 'images': [],\n",
       " 'results': [{'title': '纳斯达克综合指数 - 百度百科',\n",
       "   'url': 'https://baike.baidu.com/item/纳斯达克综合指数/4434342',\n",
       "   'content': '纳斯达克指数是反映纳斯达克证券市场行情变化的股票价格平均指数，基本指数为100。. 纳斯达克的上市公司涵盖所有新技术行业，包括软件和计算机、电信、生物技术、零售和批发贸易等。. 世人瞩目的微软公司便是通过纳斯达克上市并获得成功的。. 纳斯达克 ...',\n",
       "   'score': 0.99732697,\n",
       "   'raw_content': None},\n",
       "  {'title': '纳斯达克综合指数 - 维基百科，自由的百科全书',\n",
       "   'url': 'https://zh.wikipedia.org/zh-cn/納斯達克綜合指數',\n",
       "   'content': '纳斯达克综合指数 （英语： NASDAQ Composite ）是 美国 纳斯达克 股市价格的重要指针。 纳斯达克综合指数在1971年2月5日创立，基数点为100点，其成分股包括绝大部分于 纳斯达克 上市的股份，总数超过3,000支。',\n",
       "   'score': 0.99610037,\n",
       "   'raw_content': None},\n",
       "  {'title': '纳斯达克综合指数 (Ixic) 实时行情，今日最新指数，走势图_英为财情',\n",
       "   'url': 'https://cn.investing.com/indices/nasdaq-composite',\n",
       "   'content': '纳斯达克综合指数专题，提供纳斯达克综合指数实时行情，今日最新指数，走势图表，及NASDAQ Composite的专业技术分析，历史数据，最新消息和预测。',\n",
       "   'score': 0.9921233,\n",
       "   'raw_content': None},\n",
       "  {'title': '纳斯达克100指数 - 维基百科，自由的百科全书',\n",
       "   'url': 'https://zh.wikipedia.org/zh-hans/納斯達克100指數',\n",
       "   'content': '纳斯达克100指数 （英语： NASDAQ 100 Index ）是 美国 纳斯达克 100支最大型本地及国际非金融类上市公司组成的 股市指数 ，以 市值 作基础，并以一些规则平衡较大市值股份造成的影响。与 标准普尔500指数 、 纳斯达克综合指数 不同，在成份股中并没有 金融机构 。纳斯达克100指数、 道琼工业平均指数 ...',\n",
       "   'score': 0.990329,\n",
       "   'raw_content': None},\n",
       "  {'title': '纳斯达克 (Ndx)股票价格_行情_走势图—东方财富网',\n",
       "   'url': 'https://quote.eastmoney.com/gb/zsNDX.html',\n",
       "   'content': '纳斯达克(NDX)股票价格_行情_走势图—东方财富网，为您提供最新最全的纳斯达克指数相关的数据和资讯，助您掌握市场动态 ...',\n",
       "   'score': 0.9901782,\n",
       "   'raw_content': None}],\n",
       " 'response_time': 2.8}"
      ]
     },
     "execution_count": 5,
     "metadata": {},
     "output_type": "execute_result"
    }
   ],
   "source": [
    "# 使用 Tavily 的高级搜索进行简单查询\n",
    "client.search(\"最新纳斯达克综合指数的详情是什么？\", search_depth=\"advanced\")"
   ]
  },
  {
   "cell_type": "markdown",
   "id": "e98ea835",
   "metadata": {},
   "source": [
    "## Sample 1: Reseach Report using Tavily and Google Generative AI with Langchain"
   ]
  },
  {
   "cell_type": "code",
   "execution_count": 26,
   "id": "b7b05128",
   "metadata": {},
   "outputs": [],
   "source": [
    "# 安装 langchain 及其依赖\n",
    "!pip install langchain langchain_google_genai langchain_community"
   ]
  },
  {
   "cell_type": "code",
   "execution_count": 29,
   "id": "b2246f61",
   "metadata": {
    "ExecuteTime": {
     "end_time": "2023-11-08T16:57:59.797466Z",
     "start_time": "2023-11-08T16:57:59.793194Z"
    }
   },
   "outputs": [],
   "source": [
    "# 设置 Google Generative AI API 密钥\n",
    "google_api_key = \"您的GoogleAPI密钥\""
   ]
  },
  {
   "cell_type": "code",
   "execution_count": 25,
   "id": "c574f1b8",
   "metadata": {
    "ExecuteTime": {
     "end_time": "2023-11-08T16:59:03.572367Z",
     "start_time": "2023-11-08T16:58:01.823114Z"
    }
   },
   "outputs": [
    {
     "name": "stderr",
     "output_type": "stream",
     "text": [
      "/Users/bytedance/Documents/GitHub/aipm-researcher/docs/.venv/lib/python3.12/site-packages/tqdm/auto.py:21: TqdmWarning: IProgress not found. Please update jupyter and ipywidgets. See https://ipywidgets.readthedocs.io/en/stable/user_install.html\n",
      "  from .autonotebook import tqdm as notebook_tqdm\n",
      "WARNING: All log messages before absl::InitializeLog() is called are written to STDERR\n",
      "I0000 00:00:1723004831.690724  673667 check_gcp_environment_no_op.cc:29] ALTS: Platforms other than Linux and Windows are not supported\n",
      "I0000 00:00:1723004831.693708  673667 check_gcp_environment_no_op.cc:29] ALTS: Platforms other than Linux and Windows are not supported\n"
     ]
    },
    {
     "name": "stdout",
     "output_type": "stream",
     "text": [
      "这份报告使用提供的文本回答了“最新纳斯达克综合指数的详情是什么？”的问题。\n",
      "\n",
      "## 纳斯达克综合指数概述\n",
      "\n",
      "纳斯达克综合指数是美国纳斯达克证券交易所的一个主要指标。它于 1971 年 2 月 5 日创立，基准值为 100 点。该指数包括大多数在纳斯达克上市的公司，超过 3,000 家公司。\n",
      "\n",
      "## 最新纳斯达克综合指数信息\n",
      "\n",
      "提供的文本没有包含纳斯达克综合指数的最新信息。为了获取最新的信息，请参考以下资源：\n",
      "\n",
      "* **英为财情：** [https://cn.investing.com/indices/nasdaq-composite](https://cn.investing.com/indices/nasdaq-composite) 该网站提供纳斯达克综合指数的实时行情、最新指数、走势图表、专业技术分析、历史数据、最新消息和预测。\n",
      "* **东方财富网：** [https://quote.eastmoney.com/gb/zsNDX.html](https://quote.eastmoney.com/gb/zsNDX.html) 该网站提供纳斯达克指数相关的数据和资讯，帮助用户掌握市场动态。\n",
      "* **TradingView：** [https://cn.tradingview.com/symbols/NASDAQ-NDX/](https://cn.tradingview.com/symbols/NASDAQ-NDX/) 该网站提供纳斯达克 100 指数的图表和行情。\n",
      "\n",
      "## 结论\n",
      "\n",
      "纳斯达克综合指数是美国纳斯达克证券交易所的主要指标，跟踪着超过 3,000 家上市公司的表现。为了获取最新的纳斯达克综合指数信息，请参考以上提供的资源。\n",
      "\n",
      "## 参考文献\n",
      "\n",
      "* [纳斯达克综合指数 - 维基百科，自由的百科全书](https://zh.wikipedia.org/zh-cn/納斯達克綜合指數)\n",
      "* [纳斯达克综合指数 (Ixic) 实时行情，今日最新指数，走势图_英为财情](https://cn.investing.com/indices/nasdaq-composite)\n",
      "* [纳斯达克100指数 - 维基百科，自由的百科全书](https://zh.wikipedia.org/zh-hans/納斯達克100指數)\n",
      "* [纳斯达克 (Ndx)股票价格_行情_走势图—东方财富网](https://quote.eastmoney.com/gb/zsNDX.html)\n",
      "* [Nasdaq 100指数图表 — NDX行情 — TradingView](https://cn.tradingview.com/symbols/NASDAQ-NDX/)\n",
      "\n"
     ]
    }
   ],
   "source": [
    "# 导入所需的库\n",
    "from langchain.adapters.openai import convert_openai_messages\n",
    "from langchain_google_genai import ChatGoogleGenerativeAI\n",
    "\n",
    "# 设置查询\n",
    "query = \"最新纳斯达克综合指数的详情是什么？\"\n",
    "\n",
    "# 运行 Tavily 搜索\n",
    "content = client.search(query, search_depth=\"advanced\")[\"results\"]\n",
    "\n",
    "# 设置提示\n",
    "prompt = [{\n",
    "    \"role\": \"system\",\n",
    "    \"content\": f'您是一个 AI 批判性思维研究助理。您的任务是利用给定的文本撰写一篇结构化、客观的详细报告。'\n",
    "}, {\n",
    "    \"role\": \"user\",\n",
    "    \"content\": f'信息：\"\"\"{content}\"\"\"\\n\\n'\n",
    "               f'基于上述信息，回答以下查询：“{query}”，并撰写一份详细的报告 --'\n",
    "               f'请使用 MLA 格式和 Markdown 语法。'\n",
    "}]\n",
    "\n",
    "# 运行大型语言模型（LLM）\n",
    "lc_messages = convert_openai_messages(prompt)\n",
    "report = ChatGoogleGenerativeAI(model='gemini-1.5-flash', google_api_key=google_api_key).invoke(lc_messages).content\n",
    "\n",
    "# 打印报告\n",
    "print(report)"
   ]
  }
 ],
 "metadata": {
  "kernelspec": {
   "display_name": "Python 3 (ipykernel)",
   "language": "python",
   "name": "python3"
  },
  "language_info": {
   "codemirror_mode": {
    "name": "ipython",
    "version": 3
   },
   "file_extension": ".py",
   "mimetype": "text/x-python",
   "name": "python",
   "nbconvert_exporter": "python",
   "pygments_lexer": "ipython3",
   "version": "3.12.3"
  }
 },
 "nbformat": 4,
 "nbformat_minor": 5
}
